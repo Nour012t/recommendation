{
  "cells": [
    {
      "cell_type": "code",
      "execution_count": 1,
      "metadata": {
        "id": "TvmS9A6Kk2Y3"
      },
      "outputs": [
        {
          "name": "stderr",
          "output_type": "stream",
          "text": [
            "C:\\Users\\Adeln\\AppData\\Local\\Temp\\ipykernel_2964\\3828254804.py:15: FutureWarning: A value is trying to be set on a copy of a DataFrame or Series through chained assignment using an inplace method.\n",
            "The behavior will change in pandas 3.0. This inplace method will never work because the intermediate object on which we are setting values always behaves as a copy.\n",
            "\n",
            "For example, when doing 'df[col].method(value, inplace=True)', try using 'df.method({col: value}, inplace=True)' or df[col] = df[col].method(value) instead, to perform the operation inplace on the original object.\n",
            "\n",
            "\n",
            "  df['UserId'].fillna(0, inplace=True)  # Replace NaN in UserId with a placeholder\n",
            "C:\\Users\\Adeln\\AppData\\Local\\Temp\\ipykernel_2964\\3828254804.py:17: FutureWarning: A value is trying to be set on a copy of a DataFrame or Series through chained assignment using an inplace method.\n",
            "The behavior will change in pandas 3.0. This inplace method will never work because the intermediate object on which we are setting values always behaves as a copy.\n",
            "\n",
            "For example, when doing 'df[col].method(value, inplace=True)', try using 'df.method({col: value}, inplace=True)' or df[col] = df[col].method(value) instead, to perform the operation inplace on the original object.\n",
            "\n",
            "\n",
            "  df['ProductName'].fillna('', inplace=True)  # Replace NaN in ProductName with empty string\n",
            "C:\\Users\\Adeln\\AppData\\Local\\Temp\\ipykernel_2964\\3828254804.py:18: FutureWarning: A value is trying to be set on a copy of a DataFrame or Series through chained assignment using an inplace method.\n",
            "The behavior will change in pandas 3.0. This inplace method will never work because the intermediate object on which we are setting values always behaves as a copy.\n",
            "\n",
            "For example, when doing 'df[col].method(value, inplace=True)', try using 'df.method({col: value}, inplace=True)' or df[col] = df[col].method(value) instead, to perform the operation inplace on the original object.\n",
            "\n",
            "\n",
            "  df['price'].fillna(0, inplace=True)  # Replace NaN in price with 0 or another placeholder value\n"
          ]
        }
      ],
      "source": [
        "\n",
        "from tabulate import tabulate\n",
        "import pandas as pd\n",
        "import numpy as np\n",
        "from sklearn.feature_extraction.text import TfidfVectorizer\n",
        "from sklearn.svm import SVC\n",
        "from sklearn.metrics.pairwise import linear_kernel\n",
        "from sklearn.model_selection import train_test_split\n",
        "from sklearn.ensemble import GradientBoostingClassifier\n",
        "from sklearn.preprocessing import LabelEncoder\n",
        "\n",
        "# Read the CSV file\n",
        "df = pd.read_csv('DATA.csv')\n",
        "\n",
        "# Check for NaN values and handle them\n",
        "df['UserId'].fillna(0, inplace=True)  # Replace NaN in UserId with a placeholder\n",
        "df['UserId'] = df['UserId'].astype(str)  # Ensure UserId is of type string\n",
        "df['ProductName'].fillna('', inplace=True)  # Replace NaN in ProductName with empty string\n",
        "df['price'].fillna(0, inplace=True)  # Replace NaN in price with 0 or another placeholder value\n",
        "\n",
        "# Ensure price is of type string for concatenation\n",
        "df['price'] = df['price'].astype(str)\n",
        "\n",
        "# Pivot the DataFrame to get a user-product matrix\n",
        "user_product_matrix = df.pivot_table(index='UserId', columns='nutritional _data', values='price', aggfunc='size', fill_value=0)\n",
        "\n",
        "# Create a TF-IDF vectorizer\n",
        "tfidf_vectorizer = TfidfVectorizer(stop_words='english')\n",
        "\n",
        "# Fit and transform the product names to TF-IDF vectors\n",
        "tfidf_matrix = tfidf_vectorizer.fit_transform(df['nutritional _data'] + ' ' + df['price'])\n",
        "\n",
        "# Function to get product recommendations for a given user\n",
        "def get_recommendations(user_id):\n",
        "    user_products = user_product_matrix.loc[user_id]\n",
        "    user_tfidf_vector = np.asarray(tfidf_matrix[user_products.to_numpy().nonzero()[0]].mean(axis=0))\n",
        "    cosine_scores = linear_kernel(user_tfidf_vector, tfidf_matrix).flatten()\n",
        "    product_indices = cosine_scores.argsort()[::-1]\n",
        "    recommended_products = [idx for idx in product_indices if idx not in user_products.to_numpy().nonzero()[0]]\n",
        "\n",
        "    return recommended_products\n",
        "\n",
        "# Get all unique user IDs from the dataset\n",
        "all_user_ids = df['UserId'].unique()\n",
        "\n",
        "# Store recommendations in a DataFrame\n",
        "recommendations_data = []\n",
        "\n",
        "for user_id in all_user_ids:\n",
        "    recommendations = get_recommendations(user_id)\n",
        "\n",
        "    # Store recommendations\n",
        "    for idx in recommendations[:1]:  # Display top recommendation\n",
        "        recommendations_data.append({'UserId': user_id, 'Recommended_Product': df['ProductName'].iloc[idx], 'Price': df['price'].iloc[idx]})\n",
        "\n",
        "# Create a DataFrame from recommendations\n",
        "recommendations_df = pd.DataFrame(recommendations_data)\n",
        "\n",
        "# Merge recommendations DataFrame with existing dataset\n",
        "df = pd.merge(df, recommendations_df, on='UserId', how='left')\n",
        "\n",
        "# Save the updated DataFrame to the dataset file\n",
        "df.to_csv('data_with_recomended.csv', index=False)\n"
      ]
    },
    {
      "cell_type": "code",
      "execution_count": 2,
      "metadata": {
        "id": "gJ5tl04doWS2"
      },
      "outputs": [],
      "source": [
        "data=pd.read_csv('data_with_recomended.csv')"
      ]
    },
    {
      "cell_type": "code",
      "execution_count": 3,
      "metadata": {
        "colab": {
          "base_uri": "https://localhost:8080/",
          "height": 363
        },
        "id": "H69IjqwwocLa",
        "outputId": "8f527f9c-024e-4678-b6cd-2a1d47efd136"
      },
      "outputs": [
        {
          "data": {
            "text/html": [
              "<div>\n",
              "<style scoped>\n",
              "    .dataframe tbody tr th:only-of-type {\n",
              "        vertical-align: middle;\n",
              "    }\n",
              "\n",
              "    .dataframe tbody tr th {\n",
              "        vertical-align: top;\n",
              "    }\n",
              "\n",
              "    .dataframe thead th {\n",
              "        text-align: right;\n",
              "    }\n",
              "</style>\n",
              "<table border=\"1\" class=\"dataframe\">\n",
              "  <thead>\n",
              "    <tr style=\"text-align: right;\">\n",
              "      <th></th>\n",
              "      <th>UserId</th>\n",
              "      <th>ProductId</th>\n",
              "      <th>Rating</th>\n",
              "      <th>time</th>\n",
              "      <th>price</th>\n",
              "      <th>ProductName</th>\n",
              "      <th>nutritional _data</th>\n",
              "      <th>Recommended_Product</th>\n",
              "      <th>Price</th>\n",
              "    </tr>\n",
              "  </thead>\n",
              "  <tbody>\n",
              "    <tr>\n",
              "      <th>0</th>\n",
              "      <td>1</td>\n",
              "      <td>1</td>\n",
              "      <td>5</td>\n",
              "      <td>2/19/2024 7:45</td>\n",
              "      <td>10</td>\n",
              "      <td>Tea</td>\n",
              "      <td>This drink contains 2 calories, 10 grams of fa...</td>\n",
              "      <td>Nescaffee black</td>\n",
              "      <td>15</td>\n",
              "    </tr>\n",
              "    <tr>\n",
              "      <th>1</th>\n",
              "      <td>2</td>\n",
              "      <td>2</td>\n",
              "      <td>3</td>\n",
              "      <td>2/20/2024 10:45</td>\n",
              "      <td>15</td>\n",
              "      <td>Tea_Milk</td>\n",
              "      <td>This drink contains 50 calories, 2 grams of fa...</td>\n",
              "      <td>Nescaffee black</td>\n",
              "      <td>15</td>\n",
              "    </tr>\n",
              "    <tr>\n",
              "      <th>2</th>\n",
              "      <td>3</td>\n",
              "      <td>3</td>\n",
              "      <td>2</td>\n",
              "      <td>2/21/2024 10:45</td>\n",
              "      <td>15</td>\n",
              "      <td>Nescaffee black</td>\n",
              "      <td>This drink contains 80 calories, 3 grams of fa...</td>\n",
              "      <td>Nescafee</td>\n",
              "      <td>20</td>\n",
              "    </tr>\n",
              "    <tr>\n",
              "      <th>3</th>\n",
              "      <td>5</td>\n",
              "      <td>4</td>\n",
              "      <td>1</td>\n",
              "      <td>2/22/2024 10:45</td>\n",
              "      <td>20</td>\n",
              "      <td>Nescafee</td>\n",
              "      <td>This drink contains 100 calories, 3 grams of f...</td>\n",
              "      <td>Tea</td>\n",
              "      <td>10</td>\n",
              "    </tr>\n",
              "    <tr>\n",
              "      <th>4</th>\n",
              "      <td>6</td>\n",
              "      <td>5</td>\n",
              "      <td>4</td>\n",
              "      <td>2/23/2024 10:45</td>\n",
              "      <td>15</td>\n",
              "      <td>Cacao</td>\n",
              "      <td>This drink contains 150 calories, 8 grams of f...</td>\n",
              "      <td>Tea_Milk</td>\n",
              "      <td>15</td>\n",
              "    </tr>\n",
              "    <tr>\n",
              "      <th>5</th>\n",
              "      <td>7</td>\n",
              "      <td>6</td>\n",
              "      <td>2</td>\n",
              "      <td>2/24/2024 10:45</td>\n",
              "      <td>20</td>\n",
              "      <td>Cacao_Milk</td>\n",
              "      <td>This drink contains 200 calories, 10 grams of ...</td>\n",
              "      <td>Nescafee</td>\n",
              "      <td>20</td>\n",
              "    </tr>\n",
              "    <tr>\n",
              "      <th>6</th>\n",
              "      <td>8</td>\n",
              "      <td>1</td>\n",
              "      <td>3</td>\n",
              "      <td>2/25/2024 10:45</td>\n",
              "      <td>10</td>\n",
              "      <td>Tea</td>\n",
              "      <td>This drink contains 2 calories, 10 grams of fa...</td>\n",
              "      <td>Nescaffee black</td>\n",
              "      <td>15</td>\n",
              "    </tr>\n",
              "    <tr>\n",
              "      <th>7</th>\n",
              "      <td>9</td>\n",
              "      <td>2</td>\n",
              "      <td>1</td>\n",
              "      <td>2/26/2024 10:45</td>\n",
              "      <td>15</td>\n",
              "      <td>Tea_Milk</td>\n",
              "      <td>This drink contains 50 calories, 2 grams of fa...</td>\n",
              "      <td>Tea</td>\n",
              "      <td>10</td>\n",
              "    </tr>\n",
              "    <tr>\n",
              "      <th>8</th>\n",
              "      <td>10</td>\n",
              "      <td>3</td>\n",
              "      <td>5</td>\n",
              "      <td>2/27/2024 10:45</td>\n",
              "      <td>15</td>\n",
              "      <td>Nescaffee black</td>\n",
              "      <td>This drink contains 80 calories, 3 grams of fa...</td>\n",
              "      <td>Cacao_Milk</td>\n",
              "      <td>20</td>\n",
              "    </tr>\n",
              "    <tr>\n",
              "      <th>9</th>\n",
              "      <td>11</td>\n",
              "      <td>4</td>\n",
              "      <td>4</td>\n",
              "      <td>2/28/2024 10:45</td>\n",
              "      <td>20</td>\n",
              "      <td>Nescafee</td>\n",
              "      <td>This drink contains 100 calories, 3 grams of f...</td>\n",
              "      <td>Tea</td>\n",
              "      <td>10</td>\n",
              "    </tr>\n",
              "  </tbody>\n",
              "</table>\n",
              "</div>"
            ],
            "text/plain": [
              "   UserId  ProductId  Rating             time  price      ProductName  \\\n",
              "0       1          1       5   2/19/2024 7:45     10              Tea   \n",
              "1       2          2       3  2/20/2024 10:45     15         Tea_Milk   \n",
              "2       3          3       2  2/21/2024 10:45     15  Nescaffee black   \n",
              "3       5          4       1  2/22/2024 10:45     20         Nescafee   \n",
              "4       6          5       4  2/23/2024 10:45     15            Cacao   \n",
              "5       7          6       2  2/24/2024 10:45     20       Cacao_Milk   \n",
              "6       8          1       3  2/25/2024 10:45     10              Tea   \n",
              "7       9          2       1  2/26/2024 10:45     15         Tea_Milk   \n",
              "8      10          3       5  2/27/2024 10:45     15  Nescaffee black   \n",
              "9      11          4       4  2/28/2024 10:45     20         Nescafee   \n",
              "\n",
              "                                   nutritional _data Recommended_Product  \\\n",
              "0  This drink contains 2 calories, 10 grams of fa...     Nescaffee black   \n",
              "1  This drink contains 50 calories, 2 grams of fa...     Nescaffee black   \n",
              "2  This drink contains 80 calories, 3 grams of fa...            Nescafee   \n",
              "3  This drink contains 100 calories, 3 grams of f...                 Tea   \n",
              "4  This drink contains 150 calories, 8 grams of f...            Tea_Milk   \n",
              "5  This drink contains 200 calories, 10 grams of ...            Nescafee   \n",
              "6  This drink contains 2 calories, 10 grams of fa...     Nescaffee black   \n",
              "7  This drink contains 50 calories, 2 grams of fa...                 Tea   \n",
              "8  This drink contains 80 calories, 3 grams of fa...          Cacao_Milk   \n",
              "9  This drink contains 100 calories, 3 grams of f...                 Tea   \n",
              "\n",
              "   Price  \n",
              "0     15  \n",
              "1     15  \n",
              "2     20  \n",
              "3     10  \n",
              "4     15  \n",
              "5     20  \n",
              "6     15  \n",
              "7     10  \n",
              "8     20  \n",
              "9     10  "
            ]
          },
          "execution_count": 3,
          "metadata": {},
          "output_type": "execute_result"
        }
      ],
      "source": [
        "data.head(10)"
      ]
    },
    {
      "cell_type": "code",
      "execution_count": 4,
      "metadata": {
        "colab": {
          "base_uri": "https://localhost:8080/"
        },
        "id": "ApA8Uwgg8uK8",
        "outputId": "e8131f2e-ea5a-4c46-bf1e-d313fd4f3f66"
      },
      "outputs": [
        {
          "data": {
            "text/plain": [
              "0      Nescaffee black\n",
              "1      Nescaffee black\n",
              "2             Nescafee\n",
              "3                  Tea\n",
              "4             Tea_Milk\n",
              "            ...       \n",
              "593           Tea_Milk\n",
              "594           Nescafee\n",
              "595    Nescaffee black\n",
              "596              Cacao\n",
              "597           Nescafee\n",
              "Name: Recommended_Product, Length: 598, dtype: object"
            ]
          },
          "execution_count": 4,
          "metadata": {},
          "output_type": "execute_result"
        }
      ],
      "source": [
        "y = data['Recommended_Product']\n",
        "y"
      ]
    },
    {
      "cell_type": "code",
      "execution_count": 5,
      "metadata": {
        "id": "4J953YrUovxy"
      },
      "outputs": [],
      "source": [
        "from sklearn.preprocessing import LabelEncoder\n",
        "\n",
        "\n",
        "\n",
        "label_encoder_user = LabelEncoder()\n",
        "df['UserId'] = label_encoder_user.fit_transform(df['UserId'])\n",
        "\n",
        "label_encoder_product = LabelEncoder()\n",
        "df['ProductId'] = label_encoder_product.fit_transform(df['ProductName'])  # Assuming ProductId is derived from ProductName\n",
        "\n",
        "\n",
        "X = data[['UserId', 'ProductId', 'Rating', 'price']]  # Select relevant numerical columns as input features\n",
        "y = data['Recommended_Product']  # Set the target variable\n",
        "# Encode the target variable\n",
        "label_encoder = LabelEncoder()\n",
        "y = label_encoder.fit_transform(y)\n"
      ]
    },
    {
      "cell_type": "code",
      "execution_count": 6,
      "metadata": {
        "colab": {
          "base_uri": "https://localhost:8080/"
        },
        "id": "6jQem2cQpi5C",
        "outputId": "839e32e3-1987-4e18-b30f-e8d53de0afac"
      },
      "outputs": [
        {
          "name": "stderr",
          "output_type": "stream",
          "text": [
            "c:\\Users\\Adeln\\OneDrive\\Desktop\\drinks projectt\\drinks project\\env1\\Lib\\site-packages\\sklearn\\experimental\\enable_hist_gradient_boosting.py:15: UserWarning: Since version 1.0, it is not needed to import enable_hist_gradient_boosting anymore. HistGradientBoostingClassifier and HistGradientBoostingRegressor are now stable and can be normally imported from sklearn.ensemble.\n",
            "  warnings.warn(\n"
          ]
        },
        {
          "name": "stdout",
          "output_type": "stream",
          "text": [
            "Accuracy: 0.9083333333333333\n"
          ]
        }
      ],
      "source": [
        "from sklearn.experimental import enable_hist_gradient_boosting  # noqa\n",
        "from sklearn.ensemble import RandomForestClassifier\n",
        "\n",
        "# Split the data (assuming X and y are defined as your dataset)\n",
        "X_train, X_test, y_train, y_test = train_test_split(X, y, test_size=0.2, random_state=42)\n",
        "\n",
        "# Initialize and train the RandomForestClassifierClassifier\n",
        "classifier = RandomForestClassifier()\n",
        "classifier.fit(X_train, y_train)\n",
        "\n",
        "# Make predictions on the test set\n",
        "y_pred = classifier.predict(X_test)\n",
        "\n",
        "# Evaluate the classifier\n",
        "accuracy = classifier.score(X_test, y_test)\n",
        "print(\"Accuracy:\", accuracy)\n"
      ]
    },
    {
      "cell_type": "code",
      "execution_count": 7,
      "metadata": {
        "id": "VnayfTAitlgn"
      },
      "outputs": [],
      "source": [
        "y_pred = classifier.predict(X_test)"
      ]
    },
    {
      "cell_type": "code",
      "execution_count": 8,
      "metadata": {
        "colab": {
          "base_uri": "https://localhost:8080/"
        },
        "id": "QuFxMQ_wSqhY",
        "outputId": "43dcea00-b4f1-40b5-d1af-0ea4ad63166f"
      },
      "outputs": [
        {
          "data": {
            "text/plain": [
              "array([5, 0, 5, 2, 4, 5, 5, 1, 3, 2, 0, 3, 4, 4, 5, 1, 3, 5, 3, 1, 3, 0,\n",
              "       4, 2, 4, 3, 3, 2, 0, 3, 5, 4, 5, 0, 1, 5, 4, 0, 5, 0, 2, 2, 2, 4,\n",
              "       3, 5, 2, 5, 4, 1, 0, 5, 2, 3, 3, 4, 0, 2, 0, 2, 5, 5, 3, 5, 2, 1,\n",
              "       3, 4, 4, 1, 1, 3, 5, 3, 5, 2, 0, 3, 5, 0, 1, 4, 5, 1, 0, 4, 0, 5,\n",
              "       2, 2, 4, 4, 3, 0, 4, 3, 1, 2, 0, 2, 3, 3, 3, 3, 0, 5, 5, 0, 3, 1,\n",
              "       4, 5, 1, 5, 3, 5, 4, 3, 5, 1])"
            ]
          },
          "execution_count": 8,
          "metadata": {},
          "output_type": "execute_result"
        }
      ],
      "source": [
        "y_pred"
      ]
    },
    {
      "cell_type": "code",
      "execution_count": 9,
      "metadata": {
        "colab": {
          "base_uri": "https://localhost:8080/"
        },
        "id": "G8AYz8Z99z_B",
        "outputId": "9cc18ced-8a0e-4215-b828-43f560ed93e4"
      },
      "outputs": [
        {
          "name": "stdout",
          "output_type": "stream",
          "text": [
            "Predicted Drink: ['Tea_Milk' 'Cacao' 'Tea_Milk' 'Nescafee' 'Tea' 'Tea_Milk' 'Tea_Milk'\n",
            " 'Cacao_Milk' 'Nescaffee black' 'Nescafee' 'Cacao' 'Nescaffee black' 'Tea'\n",
            " 'Tea' 'Tea_Milk' 'Cacao_Milk' 'Nescaffee black' 'Tea_Milk'\n",
            " 'Nescaffee black' 'Cacao_Milk' 'Nescaffee black' 'Cacao' 'Tea' 'Nescafee'\n",
            " 'Tea' 'Nescaffee black' 'Nescaffee black' 'Nescafee' 'Cacao'\n",
            " 'Nescaffee black' 'Tea_Milk' 'Tea' 'Tea_Milk' 'Cacao' 'Cacao_Milk'\n",
            " 'Tea_Milk' 'Tea' 'Cacao' 'Tea_Milk' 'Cacao' 'Nescafee' 'Nescafee'\n",
            " 'Nescafee' 'Tea' 'Nescaffee black' 'Tea_Milk' 'Nescafee' 'Tea_Milk' 'Tea'\n",
            " 'Cacao_Milk' 'Cacao' 'Tea_Milk' 'Nescafee' 'Nescaffee black'\n",
            " 'Nescaffee black' 'Tea' 'Cacao' 'Nescafee' 'Cacao' 'Nescafee' 'Tea_Milk'\n",
            " 'Tea_Milk' 'Nescaffee black' 'Tea_Milk' 'Nescafee' 'Cacao_Milk'\n",
            " 'Nescaffee black' 'Tea' 'Tea' 'Cacao_Milk' 'Cacao_Milk' 'Nescaffee black'\n",
            " 'Tea_Milk' 'Nescaffee black' 'Tea_Milk' 'Nescafee' 'Cacao'\n",
            " 'Nescaffee black' 'Tea_Milk' 'Cacao' 'Cacao_Milk' 'Tea' 'Tea_Milk'\n",
            " 'Cacao_Milk' 'Cacao' 'Tea' 'Cacao' 'Tea_Milk' 'Nescafee' 'Nescafee' 'Tea'\n",
            " 'Tea' 'Nescaffee black' 'Cacao' 'Tea' 'Nescaffee black' 'Cacao_Milk'\n",
            " 'Nescafee' 'Cacao' 'Nescafee' 'Nescaffee black' 'Nescaffee black'\n",
            " 'Nescaffee black' 'Nescaffee black' 'Cacao' 'Tea_Milk' 'Tea_Milk' 'Cacao'\n",
            " 'Nescaffee black' 'Cacao_Milk' 'Tea' 'Tea_Milk' 'Cacao_Milk' 'Tea_Milk'\n",
            " 'Nescaffee black' 'Tea_Milk' 'Tea' 'Nescaffee black' 'Tea_Milk'\n",
            " 'Cacao_Milk']\n"
          ]
        }
      ],
      "source": [
        "predicted = label_encoder.inverse_transform(y_pred)\n",
        "print(\"Predicted Drink:\", predicted)"
      ]
    },
    {
      "cell_type": "code",
      "execution_count": 10,
      "metadata": {
        "id": "xx4V1y3zSqhX"
      },
      "outputs": [],
      "source": [
        "### Create a Pickle file using serialization\n",
        "import pickle\n",
        "pickle_out = open(\"classifier.pkl\",\"wb\")\n",
        "pickle.dump(classifier, pickle_out)\n",
        "pickle_out.close()"
      ]
    },
    {
      "cell_type": "code",
      "execution_count": 11,
      "metadata": {
        "colab": {
          "base_uri": "https://localhost:8080/"
        },
        "id": "eu2x4_bMt_Hj",
        "outputId": "8184597f-e7c3-4f3b-ec07-558060447895"
      },
      "outputs": [
        {
          "name": "stdout",
          "output_type": "stream",
          "text": [
            "Predicted Drink: [4]\n"
          ]
        },
        {
          "name": "stderr",
          "output_type": "stream",
          "text": [
            "c:\\Users\\Adeln\\OneDrive\\Desktop\\drinks projectt\\drinks project\\env1\\Lib\\site-packages\\sklearn\\base.py:493: UserWarning: X does not have valid feature names, but RandomForestClassifier was fitted with feature names\n",
            "  warnings.warn(\n"
          ]
        }
      ],
      "source": [
        "predicted_label=classifier.predict([[40,5,5,45]])\n",
        "predicted_drink = label_encoder.inverse_transform(predicted_label)[0]\n",
        "print(\"Predicted Drink:\", predicted_label)"
      ]
    }
  ],
  "metadata": {
    "colab": {
      "provenance": []
    },
    "kernelspec": {
      "display_name": "Python 3 (ipykernel)",
      "language": "python",
      "name": "python3"
    },
    "language_info": {
      "codemirror_mode": {
        "name": "ipython",
        "version": 3
      },
      "file_extension": ".py",
      "mimetype": "text/x-python",
      "name": "python",
      "nbconvert_exporter": "python",
      "pygments_lexer": "ipython3",
      "version": "3.11.0"
    }
  },
  "nbformat": 4,
  "nbformat_minor": 0
}
